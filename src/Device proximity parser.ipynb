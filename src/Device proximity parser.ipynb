{
 "cells": [
  {
   "cell_type": "code",
   "execution_count": 1,
   "metadata": {},
   "outputs": [],
   "source": [
    "from scapy.all import *\n",
    "from hashlib import md5\n",
    "from parse_rssi import parse_rssi"
   ]
  },
  {
   "cell_type": "code",
   "execution_count": 2,
   "metadata": {},
   "outputs": [],
   "source": [
    "# WIP: Try to get OS info from packet signatures\n",
    "# load_module('p0f')\n",
    "# with PcapReader('rasp-20190908-01.cap') as pcap_reader:\n",
    "#   for pkt in pcap_reader:\n",
    "#     try:\n",
    "#         p0f(pkt.payload)\n",
    "#     except:\n",
    "#         pass"
   ]
  },
  {
   "cell_type": "markdown",
   "metadata": {},
   "source": [
    "## Probe request is a management frame type 0x00 with subtype 0x04"
   ]
  },
  {
   "cell_type": "code",
   "execution_count": 3,
   "metadata": {},
   "outputs": [],
   "source": [
    "pcap_reader = PcapReader('captured_packets/rasp-20190908-01.cap')\n",
    "packets = []\n",
    "for pkt in pcap_reader:\n",
    "    try:\n",
    "        if (pkt.type == 0 and pkt.subtype == 0x04):\n",
    "            packets.append(pkt)\n",
    "    except:\n",
    "        pass"
   ]
  },
  {
   "cell_type": "markdown",
   "metadata": {},
   "source": [
    "## Find the mac address from each packet and print its associated RSSI (signal strength)"
   ]
  },
  {
   "cell_type": "code",
   "execution_count": 4,
   "metadata": {},
   "outputs": [],
   "source": [
    "near = [((pkt.addr2), parse_rssi(pkt)) for pkt in packets]"
   ]
  },
  {
   "cell_type": "markdown",
   "metadata": {},
   "source": [
    "## Anonimize MAC addresses using MD5"
   ]
  },
  {
   "cell_type": "code",
   "execution_count": 5,
   "metadata": {},
   "outputs": [
    {
     "data": {
      "text/plain": [
       "[('2bc16a28ee98933395901962fc86bcdc', 1),\n",
       " ('2bc16a28ee98933395901962fc86bcdc', 12),\n",
       " ('2ec7a567d420a1045054cd2e296cdadb', 18),\n",
       " ('2ec7a567d420a1045054cd2e296cdadb', 18),\n",
       " ('07afb46df86670a0eaceefacba33d0a1', 1),\n",
       " ('07afb46df86670a0eaceefacba33d0a1', 1),\n",
       " ('4fbaacb3843cb78aa270a8b9ccbaea14', 12),\n",
       " ('4fbaacb3843cb78aa270a8b9ccbaea14', 12),\n",
       " ('4fbaacb3843cb78aa270a8b9ccbaea14', 12),\n",
       " ('4fbaacb3843cb78aa270a8b9ccbaea14', 12),\n",
       " ('2ec7a567d420a1045054cd2e296cdadb', 18),\n",
       " ('2ec7a567d420a1045054cd2e296cdadb', 18),\n",
       " ('5f67a8227392bed18aeda663ddae06a7', 50),\n",
       " ('5f67a8227392bed18aeda663ddae06a7', 50),\n",
       " ('620616faa2064488849e705fa205e244', 50),\n",
       " ('620616faa2064488849e705fa205e244', 50),\n",
       " ('0feb026d4e00685d56accf3ea6432fac', 18),\n",
       " ('7bba63c4af6ff78a0017db22c0f1bac4', 50),\n",
       " ('cdb4fdeea79c6f98628ec8b79945b937', 12),\n",
       " ('cdb4fdeea79c6f98628ec8b79945b937', 12),\n",
       " ('cdb4fdeea79c6f98628ec8b79945b937', 12),\n",
       " ('cdb4fdeea79c6f98628ec8b79945b937', 12),\n",
       " ('6b62facb5716fad002890f621e58af00', 1),\n",
       " ('6b62facb5716fad002890f621e58af00', 12),\n",
       " ('4fbaacb3843cb78aa270a8b9ccbaea14', 12),\n",
       " ('4fbaacb3843cb78aa270a8b9ccbaea14', 12),\n",
       " ('4fbaacb3843cb78aa270a8b9ccbaea14', 12),\n",
       " ('4fbaacb3843cb78aa270a8b9ccbaea14', 12),\n",
       " ('4fbaacb3843cb78aa270a8b9ccbaea14', 12),\n",
       " ('014eeb2be07b40a5079ffcaf043987fd', 1),\n",
       " ('2ec7a567d420a1045054cd2e296cdadb', 18),\n",
       " ('2ec7a567d420a1045054cd2e296cdadb', 18),\n",
       " ('2ec7a567d420a1045054cd2e296cdadb', 18),\n",
       " ('2ec7a567d420a1045054cd2e296cdadb', 18),\n",
       " ('2ec7a567d420a1045054cd2e296cdadb', 18),\n",
       " ('6b62facb5716fad002890f621e58af00', 1),\n",
       " ('620616faa2064488849e705fa205e244', 50),\n",
       " ('620616faa2064488849e705fa205e244', 50),\n",
       " ('4c793fb104c3e4343e0640adc5cda505', 50),\n",
       " ('4c793fb104c3e4343e0640adc5cda505', 50),\n",
       " ('4c793fb104c3e4343e0640adc5cda505', 50),\n",
       " ('4c793fb104c3e4343e0640adc5cda505', 50),\n",
       " ('4c793fb104c3e4343e0640adc5cda505', 50),\n",
       " ('620616faa2064488849e705fa205e244', 50),\n",
       " ('620616faa2064488849e705fa205e244', 50),\n",
       " ('620616faa2064488849e705fa205e244', 50),\n",
       " ('4c793fb104c3e4343e0640adc5cda505', 50),\n",
       " ('4c793fb104c3e4343e0640adc5cda505', 50),\n",
       " ('4c793fb104c3e4343e0640adc5cda505', 50),\n",
       " ('4c793fb104c3e4343e0640adc5cda505', 50),\n",
       " ('4c793fb104c3e4343e0640adc5cda505', 50),\n",
       " ('4c793fb104c3e4343e0640adc5cda505', 50),\n",
       " ('4c793fb104c3e4343e0640adc5cda505', 50),\n",
       " ('4c793fb104c3e4343e0640adc5cda505', 50),\n",
       " ('4c793fb104c3e4343e0640adc5cda505', 50),\n",
       " ('4c793fb104c3e4343e0640adc5cda505', 50),\n",
       " ('4c793fb104c3e4343e0640adc5cda505', 50),\n",
       " ('4c793fb104c3e4343e0640adc5cda505', 50),\n",
       " ('4c793fb104c3e4343e0640adc5cda505', 50),\n",
       " ('4c793fb104c3e4343e0640adc5cda505', 50),\n",
       " ('4c793fb104c3e4343e0640adc5cda505', 50),\n",
       " ('4c793fb104c3e4343e0640adc5cda505', 50),\n",
       " ('313842b512bb7f3ecd11809cc75323d0', 12),\n",
       " ('4fbaacb3843cb78aa270a8b9ccbaea14', 12),\n",
       " ('bbad449c26e1929d25b590b2fee4d58a', 50),\n",
       " ('bbad449c26e1929d25b590b2fee4d58a', 50),\n",
       " ('64d6138a17c46587569c753b236c21f5', 1),\n",
       " ('6b62facb5716fad002890f621e58af00', 1),\n",
       " ('6b62facb5716fad002890f621e58af00', 12),\n",
       " ('6b62facb5716fad002890f621e58af00', 1),\n",
       " ('6b62facb5716fad002890f621e58af00', 12),\n",
       " ('6b62facb5716fad002890f621e58af00', 1),\n",
       " ('6b62facb5716fad002890f621e58af00', 12),\n",
       " ('6b62facb5716fad002890f621e58af00', 1),\n",
       " ('6b62facb5716fad002890f621e58af00', 1),\n",
       " ('6b62facb5716fad002890f621e58af00', 12),\n",
       " ('6b62facb5716fad002890f621e58af00', 1),\n",
       " ('6b62facb5716fad002890f621e58af00', 12),\n",
       " ('07afb46df86670a0eaceefacba33d0a1', 1),\n",
       " ('4fbaacb3843cb78aa270a8b9ccbaea14', 12),\n",
       " ('4fbaacb3843cb78aa270a8b9ccbaea14', 12),\n",
       " ('4c793fb104c3e4343e0640adc5cda505', 50),\n",
       " ('4c793fb104c3e4343e0640adc5cda505', 50),\n",
       " ('4c793fb104c3e4343e0640adc5cda505', 50),\n",
       " ('4c793fb104c3e4343e0640adc5cda505', 50),\n",
       " ('4c793fb104c3e4343e0640adc5cda505', 50),\n",
       " ('4c793fb104c3e4343e0640adc5cda505', 50),\n",
       " ('4c793fb104c3e4343e0640adc5cda505', 50),\n",
       " ('4c793fb104c3e4343e0640adc5cda505', 50),\n",
       " ('4c793fb104c3e4343e0640adc5cda505', 50),\n",
       " ('4c793fb104c3e4343e0640adc5cda505', 50),\n",
       " ('4c793fb104c3e4343e0640adc5cda505', 50),\n",
       " ('4c793fb104c3e4343e0640adc5cda505', 50),\n",
       " ('4c793fb104c3e4343e0640adc5cda505', 50),\n",
       " ('4c793fb104c3e4343e0640adc5cda505', 50),\n",
       " ('4c793fb104c3e4343e0640adc5cda505', 50),\n",
       " ('4c793fb104c3e4343e0640adc5cda505', 50),\n",
       " ('4c793fb104c3e4343e0640adc5cda505', 50),\n",
       " ('4c793fb104c3e4343e0640adc5cda505', 50),\n",
       " ('4c793fb104c3e4343e0640adc5cda505', 50),\n",
       " ('4c793fb104c3e4343e0640adc5cda505', 50),\n",
       " ('4c793fb104c3e4343e0640adc5cda505', 50),\n",
       " ('4c793fb104c3e4343e0640adc5cda505', 50),\n",
       " ('4c793fb104c3e4343e0640adc5cda505', 50),\n",
       " ('4c793fb104c3e4343e0640adc5cda505', 50),\n",
       " ('4fbaacb3843cb78aa270a8b9ccbaea14', 12),\n",
       " ('4fbaacb3843cb78aa270a8b9ccbaea14', 12),\n",
       " ('4fbaacb3843cb78aa270a8b9ccbaea14', 12),\n",
       " ('4fbaacb3843cb78aa270a8b9ccbaea14', 12),\n",
       " ('c25598ed56426b289960c77d423ed68c', 96),\n",
       " ('c25598ed56426b289960c77d423ed68c', 12),\n",
       " ('c25598ed56426b289960c77d423ed68c', 96),\n",
       " ('c25598ed56426b289960c77d423ed68c', 96),\n",
       " ('c25598ed56426b289960c77d423ed68c', 12),\n",
       " ('1f2f7a04a2710a2e79f440b177bfd10d', 8),\n",
       " ('4fbaacb3843cb78aa270a8b9ccbaea14', 12),\n",
       " ('4fbaacb3843cb78aa270a8b9ccbaea14', 12),\n",
       " ('4fbaacb3843cb78aa270a8b9ccbaea14', 12),\n",
       " ('4fbaacb3843cb78aa270a8b9ccbaea14', 12),\n",
       " ('1c04c79a20d39f49389add4e4c467447', 1),\n",
       " ('1c04c79a20d39f49389add4e4c467447', 50),\n",
       " ('1c04c79a20d39f49389add4e4c467447', 50),\n",
       " ('1c04c79a20d39f49389add4e4c467447', 1),\n",
       " ('1c04c79a20d39f49389add4e4c467447', 1),\n",
       " ('4fbaacb3843cb78aa270a8b9ccbaea14', 12),\n",
       " ('4fbaacb3843cb78aa270a8b9ccbaea14', 12),\n",
       " ('4fbaacb3843cb78aa270a8b9ccbaea14', 12),\n",
       " ('4fbaacb3843cb78aa270a8b9ccbaea14', 12),\n",
       " ('652ddda3457344de9d15301610c6cf10', 96)]"
      ]
     },
     "execution_count": 5,
     "metadata": {},
     "output_type": "execute_result"
    }
   ],
   "source": [
    "[(md5(n[0].encode('utf-8')).hexdigest(), n[1]) for n in near]"
   ]
  }
 ],
 "metadata": {
  "kernelspec": {
   "display_name": "Python 3",
   "language": "python",
   "name": "python3"
  },
  "language_info": {
   "codemirror_mode": {
    "name": "ipython",
    "version": 3
   },
   "file_extension": ".py",
   "mimetype": "text/x-python",
   "name": "python",
   "nbconvert_exporter": "python",
   "pygments_lexer": "ipython3",
   "version": "3.7.3"
  }
 },
 "nbformat": 4,
 "nbformat_minor": 4
}
