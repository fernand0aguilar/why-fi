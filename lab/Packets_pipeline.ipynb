{
 "cells": [
  {
   "cell_type": "code",
   "execution_count": null,
   "metadata": {},
   "outputs": [],
   "source": [
    "from scapy.all import *\n",
    "from hashlib import md5\n",
    "import arrow\n",
    "from parse_rssi import parse_rssi"
   ]
  },
  {
   "cell_type": "code",
   "execution_count": null,
   "metadata": {},
   "outputs": [],
   "source": [
    "import glob\n",
    "capture_files = glob.glob(\"captured_packets/*.cap\")"
   ]
  },
  {
   "cell_type": "code",
   "execution_count": null,
   "metadata": {},
   "outputs": [],
   "source": [
    "import re\n",
    "\n",
    "def parse_station_id(file_name):\n",
    "    p = re.compile('(?:[0-9a-fA-F]:?){12}')\n",
    "    test_str = file_name\n",
    "    return re.findall(p, test_str)[0]"
   ]
  },
  {
   "cell_type": "markdown",
   "metadata": {},
   "source": [
    "## Get packets from all available collects\n",
    "### Probe requests are management frames of type 0x00 with subtype 0x04"
   ]
  },
  {
   "cell_type": "code",
   "execution_count": null,
   "metadata": {},
   "outputs": [],
   "source": [
    "collects = []\n",
    "for capture_file in capture_files:\n",
    "    pcap_reader = PcapReader(capture_file)\n",
    "    packets = []\n",
    "    for pkt in pcap_reader:\n",
    "        try:\n",
    "            if (pkt.type == 0 and pkt.subtype == 0x04):\n",
    "                packets.append(pkt)\n",
    "        except:\n",
    "            pass\n",
    "    collects.append((parse_station_id(capture_file), packets))"
   ]
  },
  {
   "cell_type": "markdown",
   "metadata": {},
   "source": [
    "# Print out the start and end times of the collected packages"
   ]
  },
  {
   "cell_type": "code",
   "execution_count": null,
   "metadata": {},
   "outputs": [],
   "source": [
    "for collect in collects:\n",
    "    packets = collect[1]\n",
    "    pkt_start = packets[1]\n",
    "    pkt_end = packets[-1]\n",
    "    \n",
    "    print(f'Station: {collect[0]}')\n",
    "    print(f'Start: {arrow.get(pkt_start.time)}')\n",
    "    print(f'End  : {arrow.get(pkt_end.time)}\\n')"
   ]
  },
  {
   "cell_type": "markdown",
   "metadata": {},
   "source": [
    "## Find the MAC address from each packet, it's associated RSSI (signal strength) and the time of capture"
   ]
  },
  {
   "cell_type": "code",
   "execution_count": null,
   "metadata": {},
   "outputs": [],
   "source": [
    "for num, collect in enumerate(collects):\n",
    "    packets = collect[1]\n",
    "    near = [((pkt.addr2), arrow.get(pkt.time), parse_rssi(pkt)) for pkt in packets]\n",
    "    collects[num] = collect + (near,)"
   ]
  },
  {
   "cell_type": "markdown",
   "metadata": {},
   "source": [
    "## Save the data on a CSV"
   ]
  },
  {
   "cell_type": "code",
   "execution_count": null,
   "metadata": {},
   "outputs": [],
   "source": [
    "import csv\n",
    "with open('parsed_packet_data.csv','w') as f:\n",
    "    wr = csv.writer(f, dialect='excel')\n",
    "    wr.writerows([('MAC', 'time', 'RSSI', 'station')])\n",
    "    \n",
    "    # Write one collect at a time\n",
    "    for collect in collects:\n",
    "        # Iterate through the proximity data of the current collect\n",
    "        for near in collect[2]:\n",
    "            # Add the station (ID) data to each proximity reading\n",
    "            near = near + (collect[0],)\n",
    "            wr.writerow(near)"
   ]
  }
 ],
 "metadata": {
  "kernelspec": {
   "display_name": "Python 3",
   "language": "python",
   "name": "python3"
  },
  "language_info": {
   "codemirror_mode": {
    "name": "ipython",
    "version": 3
   },
   "file_extension": ".py",
   "mimetype": "text/x-python",
   "name": "python",
   "nbconvert_exporter": "python",
   "pygments_lexer": "ipython3",
   "version": "3.7.3"
  }
 },
 "nbformat": 4,
 "nbformat_minor": 4
}
